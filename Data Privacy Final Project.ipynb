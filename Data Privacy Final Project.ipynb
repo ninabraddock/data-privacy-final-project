{
 "cells": [
  {
   "cell_type": "markdown",
   "id": "a7601d4d",
   "metadata": {},
   "source": [
    "Data Privacy Final Project "
   ]
  },
  {
   "cell_type": "code",
   "execution_count": 2,
   "id": "5b9e8724",
   "metadata": {},
   "outputs": [
    {
     "ename": "FileNotFoundError",
     "evalue": "[Errno 2] No such file or directory: 'student_math_clean.csv'",
     "output_type": "error",
     "traceback": [
      "\u001b[0;31m---------------------------------------------------------------------------\u001b[0m",
      "\u001b[0;31mFileNotFoundError\u001b[0m                         Traceback (most recent call last)",
      "Cell \u001b[0;32mIn[2], line 35\u001b[0m\n\u001b[1;32m     32\u001b[0m             \u001b[38;5;28;01mreturn\u001b[39;00m idx\n\u001b[1;32m     33\u001b[0m     \u001b[38;5;28;01mreturn\u001b[39;00m \u001b[38;5;28;01mNone\u001b[39;00m\n\u001b[0;32m---> 35\u001b[0m math \u001b[38;5;241m=\u001b[39m pd\u001b[38;5;241m.\u001b[39mread_csv(\u001b[38;5;124m\"\u001b[39m\u001b[38;5;124mstudent_math_clean.csv\u001b[39m\u001b[38;5;124m\"\u001b[39m)\n\u001b[1;32m     36\u001b[0m math\u001b[38;5;241m.\u001b[39mhead(\u001b[38;5;241m5\u001b[39m)\n",
      "File \u001b[0;32m~/anaconda3/lib/python3.11/site-packages/pandas/io/parsers/readers.py:912\u001b[0m, in \u001b[0;36mread_csv\u001b[0;34m(filepath_or_buffer, sep, delimiter, header, names, index_col, usecols, dtype, engine, converters, true_values, false_values, skipinitialspace, skiprows, skipfooter, nrows, na_values, keep_default_na, na_filter, verbose, skip_blank_lines, parse_dates, infer_datetime_format, keep_date_col, date_parser, date_format, dayfirst, cache_dates, iterator, chunksize, compression, thousands, decimal, lineterminator, quotechar, quoting, doublequote, escapechar, comment, encoding, encoding_errors, dialect, on_bad_lines, delim_whitespace, low_memory, memory_map, float_precision, storage_options, dtype_backend)\u001b[0m\n\u001b[1;32m    899\u001b[0m kwds_defaults \u001b[38;5;241m=\u001b[39m _refine_defaults_read(\n\u001b[1;32m    900\u001b[0m     dialect,\n\u001b[1;32m    901\u001b[0m     delimiter,\n\u001b[0;32m   (...)\u001b[0m\n\u001b[1;32m    908\u001b[0m     dtype_backend\u001b[38;5;241m=\u001b[39mdtype_backend,\n\u001b[1;32m    909\u001b[0m )\n\u001b[1;32m    910\u001b[0m kwds\u001b[38;5;241m.\u001b[39mupdate(kwds_defaults)\n\u001b[0;32m--> 912\u001b[0m \u001b[38;5;28;01mreturn\u001b[39;00m _read(filepath_or_buffer, kwds)\n",
      "File \u001b[0;32m~/anaconda3/lib/python3.11/site-packages/pandas/io/parsers/readers.py:577\u001b[0m, in \u001b[0;36m_read\u001b[0;34m(filepath_or_buffer, kwds)\u001b[0m\n\u001b[1;32m    574\u001b[0m _validate_names(kwds\u001b[38;5;241m.\u001b[39mget(\u001b[38;5;124m\"\u001b[39m\u001b[38;5;124mnames\u001b[39m\u001b[38;5;124m\"\u001b[39m, \u001b[38;5;28;01mNone\u001b[39;00m))\n\u001b[1;32m    576\u001b[0m \u001b[38;5;66;03m# Create the parser.\u001b[39;00m\n\u001b[0;32m--> 577\u001b[0m parser \u001b[38;5;241m=\u001b[39m TextFileReader(filepath_or_buffer, \u001b[38;5;241m*\u001b[39m\u001b[38;5;241m*\u001b[39mkwds)\n\u001b[1;32m    579\u001b[0m \u001b[38;5;28;01mif\u001b[39;00m chunksize \u001b[38;5;129;01mor\u001b[39;00m iterator:\n\u001b[1;32m    580\u001b[0m     \u001b[38;5;28;01mreturn\u001b[39;00m parser\n",
      "File \u001b[0;32m~/anaconda3/lib/python3.11/site-packages/pandas/io/parsers/readers.py:1407\u001b[0m, in \u001b[0;36mTextFileReader.__init__\u001b[0;34m(self, f, engine, **kwds)\u001b[0m\n\u001b[1;32m   1404\u001b[0m     \u001b[38;5;28mself\u001b[39m\u001b[38;5;241m.\u001b[39moptions[\u001b[38;5;124m\"\u001b[39m\u001b[38;5;124mhas_index_names\u001b[39m\u001b[38;5;124m\"\u001b[39m] \u001b[38;5;241m=\u001b[39m kwds[\u001b[38;5;124m\"\u001b[39m\u001b[38;5;124mhas_index_names\u001b[39m\u001b[38;5;124m\"\u001b[39m]\n\u001b[1;32m   1406\u001b[0m \u001b[38;5;28mself\u001b[39m\u001b[38;5;241m.\u001b[39mhandles: IOHandles \u001b[38;5;241m|\u001b[39m \u001b[38;5;28;01mNone\u001b[39;00m \u001b[38;5;241m=\u001b[39m \u001b[38;5;28;01mNone\u001b[39;00m\n\u001b[0;32m-> 1407\u001b[0m \u001b[38;5;28mself\u001b[39m\u001b[38;5;241m.\u001b[39m_engine \u001b[38;5;241m=\u001b[39m \u001b[38;5;28mself\u001b[39m\u001b[38;5;241m.\u001b[39m_make_engine(f, \u001b[38;5;28mself\u001b[39m\u001b[38;5;241m.\u001b[39mengine)\n",
      "File \u001b[0;32m~/anaconda3/lib/python3.11/site-packages/pandas/io/parsers/readers.py:1661\u001b[0m, in \u001b[0;36mTextFileReader._make_engine\u001b[0;34m(self, f, engine)\u001b[0m\n\u001b[1;32m   1659\u001b[0m     \u001b[38;5;28;01mif\u001b[39;00m \u001b[38;5;124m\"\u001b[39m\u001b[38;5;124mb\u001b[39m\u001b[38;5;124m\"\u001b[39m \u001b[38;5;129;01mnot\u001b[39;00m \u001b[38;5;129;01min\u001b[39;00m mode:\n\u001b[1;32m   1660\u001b[0m         mode \u001b[38;5;241m+\u001b[39m\u001b[38;5;241m=\u001b[39m \u001b[38;5;124m\"\u001b[39m\u001b[38;5;124mb\u001b[39m\u001b[38;5;124m\"\u001b[39m\n\u001b[0;32m-> 1661\u001b[0m \u001b[38;5;28mself\u001b[39m\u001b[38;5;241m.\u001b[39mhandles \u001b[38;5;241m=\u001b[39m get_handle(\n\u001b[1;32m   1662\u001b[0m     f,\n\u001b[1;32m   1663\u001b[0m     mode,\n\u001b[1;32m   1664\u001b[0m     encoding\u001b[38;5;241m=\u001b[39m\u001b[38;5;28mself\u001b[39m\u001b[38;5;241m.\u001b[39moptions\u001b[38;5;241m.\u001b[39mget(\u001b[38;5;124m\"\u001b[39m\u001b[38;5;124mencoding\u001b[39m\u001b[38;5;124m\"\u001b[39m, \u001b[38;5;28;01mNone\u001b[39;00m),\n\u001b[1;32m   1665\u001b[0m     compression\u001b[38;5;241m=\u001b[39m\u001b[38;5;28mself\u001b[39m\u001b[38;5;241m.\u001b[39moptions\u001b[38;5;241m.\u001b[39mget(\u001b[38;5;124m\"\u001b[39m\u001b[38;5;124mcompression\u001b[39m\u001b[38;5;124m\"\u001b[39m, \u001b[38;5;28;01mNone\u001b[39;00m),\n\u001b[1;32m   1666\u001b[0m     memory_map\u001b[38;5;241m=\u001b[39m\u001b[38;5;28mself\u001b[39m\u001b[38;5;241m.\u001b[39moptions\u001b[38;5;241m.\u001b[39mget(\u001b[38;5;124m\"\u001b[39m\u001b[38;5;124mmemory_map\u001b[39m\u001b[38;5;124m\"\u001b[39m, \u001b[38;5;28;01mFalse\u001b[39;00m),\n\u001b[1;32m   1667\u001b[0m     is_text\u001b[38;5;241m=\u001b[39mis_text,\n\u001b[1;32m   1668\u001b[0m     errors\u001b[38;5;241m=\u001b[39m\u001b[38;5;28mself\u001b[39m\u001b[38;5;241m.\u001b[39moptions\u001b[38;5;241m.\u001b[39mget(\u001b[38;5;124m\"\u001b[39m\u001b[38;5;124mencoding_errors\u001b[39m\u001b[38;5;124m\"\u001b[39m, \u001b[38;5;124m\"\u001b[39m\u001b[38;5;124mstrict\u001b[39m\u001b[38;5;124m\"\u001b[39m),\n\u001b[1;32m   1669\u001b[0m     storage_options\u001b[38;5;241m=\u001b[39m\u001b[38;5;28mself\u001b[39m\u001b[38;5;241m.\u001b[39moptions\u001b[38;5;241m.\u001b[39mget(\u001b[38;5;124m\"\u001b[39m\u001b[38;5;124mstorage_options\u001b[39m\u001b[38;5;124m\"\u001b[39m, \u001b[38;5;28;01mNone\u001b[39;00m),\n\u001b[1;32m   1670\u001b[0m )\n\u001b[1;32m   1671\u001b[0m \u001b[38;5;28;01massert\u001b[39;00m \u001b[38;5;28mself\u001b[39m\u001b[38;5;241m.\u001b[39mhandles \u001b[38;5;129;01mis\u001b[39;00m \u001b[38;5;129;01mnot\u001b[39;00m \u001b[38;5;28;01mNone\u001b[39;00m\n\u001b[1;32m   1672\u001b[0m f \u001b[38;5;241m=\u001b[39m \u001b[38;5;28mself\u001b[39m\u001b[38;5;241m.\u001b[39mhandles\u001b[38;5;241m.\u001b[39mhandle\n",
      "File \u001b[0;32m~/anaconda3/lib/python3.11/site-packages/pandas/io/common.py:859\u001b[0m, in \u001b[0;36mget_handle\u001b[0;34m(path_or_buf, mode, encoding, compression, memory_map, is_text, errors, storage_options)\u001b[0m\n\u001b[1;32m    854\u001b[0m \u001b[38;5;28;01melif\u001b[39;00m \u001b[38;5;28misinstance\u001b[39m(handle, \u001b[38;5;28mstr\u001b[39m):\n\u001b[1;32m    855\u001b[0m     \u001b[38;5;66;03m# Check whether the filename is to be opened in binary mode.\u001b[39;00m\n\u001b[1;32m    856\u001b[0m     \u001b[38;5;66;03m# Binary mode does not support 'encoding' and 'newline'.\u001b[39;00m\n\u001b[1;32m    857\u001b[0m     \u001b[38;5;28;01mif\u001b[39;00m ioargs\u001b[38;5;241m.\u001b[39mencoding \u001b[38;5;129;01mand\u001b[39;00m \u001b[38;5;124m\"\u001b[39m\u001b[38;5;124mb\u001b[39m\u001b[38;5;124m\"\u001b[39m \u001b[38;5;129;01mnot\u001b[39;00m \u001b[38;5;129;01min\u001b[39;00m ioargs\u001b[38;5;241m.\u001b[39mmode:\n\u001b[1;32m    858\u001b[0m         \u001b[38;5;66;03m# Encoding\u001b[39;00m\n\u001b[0;32m--> 859\u001b[0m         handle \u001b[38;5;241m=\u001b[39m \u001b[38;5;28mopen\u001b[39m(\n\u001b[1;32m    860\u001b[0m             handle,\n\u001b[1;32m    861\u001b[0m             ioargs\u001b[38;5;241m.\u001b[39mmode,\n\u001b[1;32m    862\u001b[0m             encoding\u001b[38;5;241m=\u001b[39mioargs\u001b[38;5;241m.\u001b[39mencoding,\n\u001b[1;32m    863\u001b[0m             errors\u001b[38;5;241m=\u001b[39merrors,\n\u001b[1;32m    864\u001b[0m             newline\u001b[38;5;241m=\u001b[39m\u001b[38;5;124m\"\u001b[39m\u001b[38;5;124m\"\u001b[39m,\n\u001b[1;32m    865\u001b[0m         )\n\u001b[1;32m    866\u001b[0m     \u001b[38;5;28;01melse\u001b[39;00m:\n\u001b[1;32m    867\u001b[0m         \u001b[38;5;66;03m# Binary mode\u001b[39;00m\n\u001b[1;32m    868\u001b[0m         handle \u001b[38;5;241m=\u001b[39m \u001b[38;5;28mopen\u001b[39m(handle, ioargs\u001b[38;5;241m.\u001b[39mmode)\n",
      "\u001b[0;31mFileNotFoundError\u001b[0m: [Errno 2] No such file or directory: 'student_math_clean.csv'"
     ]
    }
   ],
   "source": [
    "# https://www.kaggle.com/code/marosz/math-final-grade-correlation-and-comparison#Comparisons:-the-students-whose-final-grade-is-75%-or-better-vs.-the-students-whose-final-grade-is-50%-or-worse\n",
    "# Load the data and libraries\n",
    "import pandas as pd\n",
    "import numpy as np\n",
    "import random\n",
    "from scipy import stats\n",
    "import matplotlib.pyplot as plt\n",
    "\n",
    "def laplace_mech(v, sensitivity, epsilon):\n",
    "    return v + np.random.laplace(loc=0, scale=sensitivity / epsilon)\n",
    "\n",
    "def laplace_mech_vec(vec, sensitivity, epsilon):\n",
    "    return [v + np.random.laplace(loc=0, scale=sensitivity / epsilon) for v in vec]\n",
    "\n",
    "def gaussian_mech(v, sensitivity, epsilon, delta):\n",
    "    return v + np.random.normal(loc=0, scale=sensitivity * np.sqrt(2*np.log(1.25/delta)) / epsilon)\n",
    "\n",
    "def gaussian_mech_vec(vec, sensitivity, epsilon, delta):\n",
    "    return [v + np.random.normal(loc=0, scale=sensitivity * np.sqrt(2*np.log(1.25/delta)) / epsilon)\n",
    "            for v in vec]\n",
    "\n",
    "def pct_error(orig, priv):\n",
    "    return np.abs(orig - priv)/orig * 100.0\n",
    "\n",
    "# preserves epsilon-differential privacy\n",
    "def above_threshold(query_results, T, epsilon):\n",
    "    T_hat = T + np.random.laplace(loc=0, scale = 2/epsilon)\n",
    "    \n",
    "    for idx, q in enumerate(query_results):\n",
    "        nu_i = np.random.laplace(loc=0, scale = 4/epsilon)\n",
    "        if q + nu_i >= T_hat:\n",
    "            return idx\n",
    "    return None\n",
    "\n",
    "math = pd.read_csv(\"student_math_clean.csv\")\n",
    "math.head(5)"
   ]
  },
  {
   "cell_type": "code",
   "execution_count": 10,
   "id": "7e571e71",
   "metadata": {},
   "outputs": [
    {
     "name": "stdout",
     "output_type": "stream",
     "text": [
      "Actual minimum absences: 0\n",
      "Local sensitivity of the minimum: 0\n",
      "max 75\n"
     ]
    }
   ],
   "source": [
    "## Cache the sorted ages, because we will use them a lot.\n",
    "absences_lower = 0\n",
    "absences_upper = 20\n",
    "sorted_absences = math['absences'].clip(lower=absences_lower, upper=absences_upper).sort_values()\n",
    "\n",
    "#what is the upper bound of the data - b\n",
    "\n",
    "# we wrote a function that found b - to know where to clip \n",
    "# privataize that clipped idea data under that \n",
    "# by apply gauss and laplace\n",
    "\n",
    "def min_absences():\n",
    "    clipped_absences = math['absences'].clip(lower=0, upper=100)\n",
    "    return clipped_absences.min()\n",
    "\n",
    "def max_absences():\n",
    "    clipped_absences = math['absences'].clip(lower=0, upper=100)\n",
    "    return clipped_absences.max()\n",
    "\n",
    "def ls_min():\n",
    "    return max(sorted_absences.iloc[0] - absences_lower, sorted_absences.iloc[1] - sorted_absences.iloc[0])\n",
    "\n",
    "print('Actual minimum absences:', min_absences())\n",
    "print('Local sensitivity of the minimum:', ls_min())\n",
    "print('max', max_absences())\n"
   ]
  },
  {
   "cell_type": "code",
   "execution_count": 15,
   "id": "96bdc404",
   "metadata": {},
   "outputs": [],
   "source": [
    "bs = list(range(0, 75, 5)) #(min, max, step)\n",
    "df = math['absences']\n",
    "\n",
    "#find upper cliping param for mean_abscences \n",
    "def upper(b_lower, epsilon):\n",
    "        query_results = [math.clip(lower=b_lower, upper=b).sum() - \\\n",
    "                         math.clip(lower=b_lower, upper=b+1).sum() for b in bs]\n",
    "        idx = above_threshold(query_results, 0, epsilon)\n",
    "        \n",
    "        if idx == None:\n",
    "            return bs[-1]\n",
    "        else:\n",
    "            return bs[idx]"
   ]
  },
  {
   "cell_type": "code",
   "execution_count": 5,
   "id": "a0a9cf5f",
   "metadata": {},
   "outputs": [
    {
     "ename": "NameError",
     "evalue": "name 'math' is not defined",
     "output_type": "error",
     "traceback": [
      "\u001b[0;31m---------------------------------------------------------------------------\u001b[0m",
      "\u001b[0;31mNameError\u001b[0m                                 Traceback (most recent call last)",
      "Cell \u001b[0;32mIn[5], line 16\u001b[0m\n\u001b[1;32m     14\u001b[0m \u001b[38;5;66;03m# Iter over epsilons and store results\u001b[39;00m\n\u001b[1;32m     15\u001b[0m \u001b[38;5;28;01mfor\u001b[39;00m epsilon \u001b[38;5;129;01min\u001b[39;00m [\u001b[38;5;241m0.001\u001b[39m, \u001b[38;5;241m0.01\u001b[39m, \u001b[38;5;241m0.1\u001b[39m, \u001b[38;5;241m0.5\u001b[39m, \u001b[38;5;241m1\u001b[39m, \u001b[38;5;241m10\u001b[39m]:\n\u001b[0;32m---> 16\u001b[0m     result \u001b[38;5;241m=\u001b[39m mean_abscence_lap(epsilon, math)\n\u001b[1;32m     17\u001b[0m     results\u001b[38;5;241m.\u001b[39mappend(result)\n\u001b[1;32m     18\u001b[0m     \u001b[38;5;28mprint\u001b[39m(\u001b[38;5;124mf\u001b[39m\u001b[38;5;124m\"\u001b[39m\u001b[38;5;124mepsilon: \u001b[39m\u001b[38;5;132;01m{\u001b[39;00mepsilon\u001b[38;5;132;01m}\u001b[39;00m\u001b[38;5;124m, mean abscence lap: \u001b[39m\u001b[38;5;132;01m{\u001b[39;00mresult\u001b[38;5;132;01m}\u001b[39;00m\u001b[38;5;124m\"\u001b[39m)\n",
      "\u001b[0;31mNameError\u001b[0m: name 'math' is not defined"
     ]
    }
   ],
   "source": [
    "# finds upper and lower, and adds laplace differenial noise\n",
    "def mean_abscence_lap(epsilon):\n",
    "    b_lower = 0\n",
    "    b_upper = upper(b_lower, epsilon / 3) #finds upper clipping param\n",
    "    \n",
    "    noisy_sum = laplace_mech(df.clip(lower=b_lower, upper=b_upper).sum(), np.abs(b_upper - b_lower), epsilon / 3)\n",
    "    noisy_count = laplace_mech(len(df), 1, epsilon / 3)\n",
    "    \n",
    "    return noisy_sum / noisy_count\n",
    "\n",
    "    \n",
    "results = []\n",
    "\n",
    "# Iter over epsilons and store results\n",
    "for epsilon in [0.001, 0.01, 0.1, 0.5, 1, 10]:\n",
    "    result = mean_abscence_lap(epsilon, math)\n",
    "    results.append(result)\n",
    "    print(f\"epsilon: {epsilon}, mean abscence lap: {result}\")\n",
    "\n",
    "#from exersize 10-2\n",
    "def cdf(data):\n",
    "    n = len(data)\n",
    "    x = np.sort(data)\n",
    "    y = np.arange(1, n + 1) / n\n",
    "    return x, y\n",
    "\n",
    "# Plot the CDF for the results\n",
    "for i, result in enumerate(results):\n",
    "    x, y = cdf(result)\n",
    "    plt.plot(x, y, label=f'Epsilon = {epsilon_values[i]}')\n",
    "\n",
    "plt.xlabel('Mean Absence Laplace')\n",
    "plt.ylabel('Cumulative Probability')\n",
    "plt.title('Cumulative Distribution Function (CDF) of Mean Absence Laplace')\n",
    "plt.legend()\n",
    "plt.show()"
   ]
  },
  {
   "cell_type": "code",
   "execution_count": 20,
   "id": "b2bef38f",
   "metadata": {},
   "outputs": [
    {
     "name": "stdout",
     "output_type": "stream",
     "text": [
      "epsilon: 0.001, mean abscence gaus: 1.6269915145814782\n",
      "epsilon: 0.01, mean abscence gaus: 26.315337955534048\n",
      "epsilon: 0.1, mean abscence gaus: 1.5312429172358721\n",
      "epsilon: 0.5, mean abscence gaus: 8.100927410793556\n",
      "epsilon: 1, mean abscence gaus: 4.714205591407119\n",
      "epsilon: 10, mean abscence gaus: 5.346766158197703\n"
     ]
    }
   ],
   "source": [
    "def mean_abscence_gaussian(epsilon, math):\n",
    "    b_lower = 0\n",
    "    b_upper = upper(b_lower, epsilon / 3)  # finds upper clipping param\n",
    "\n",
    "    noisy_sum = gaussian_mech(df.clip(lower=b_lower, upper=b_upper).sum(), np.abs(b_upper - b_lower), epsilon / 3, 0.0001)\n",
    "    noisy_count = gaussian_mech(len(df), 1, epsilon / 3, 0.0001)\n",
    "\n",
    "    return noisy_sum / noisy_count\n",
    "\n",
    "# store results\n",
    "results_gaussian = []\n",
    "\n",
    "for epsilon in [0.001, 0.01, 0.1, 0.5, 1, 10]:\n",
    "    result_gaussian = mean_abscence_gaussian(epsilon, math)\n",
    "    results_gaussian.append(result_gaussian)\n",
    "    print(f\"epsilon: {epsilon}, mean abscence gaussian: {result_gaussian}\")\n",
    "\n",
    "# CDF fnc\n",
    "def cdf(data):\n",
    "    n = len(data)\n",
    "    x = np.sort(data)\n",
    "    y = np.arange(1, n + 1) / n\n",
    "    return x, y\n",
    "\n",
    "# Plot the CDF for the results\n",
    "for i, result_gaussian in enumerate(results_gaussian):\n",
    "    x, y = cdf(result_gaussian)\n",
    "    plt.plot(x, y, label = f'Epsilon = {epsilon_values[i]}')\n",
    "\n",
    "plt.xlabel('Mean Absence Gaussian')\n",
    "plt.ylabel('Cumulative Probability')\n",
    "plt.title('Cumulative Distribution Function (CDF) of Mean Absence Gaussian')\n",
    "plt.legend()\n",
    "plt.show()"
   ]
  },
  {
   "cell_type": "code",
   "execution_count": 6,
   "id": "6dd1dcda",
   "metadata": {},
   "outputs": [
    {
     "ename": "NameError",
     "evalue": "name 'df' is not defined",
     "output_type": "error",
     "traceback": [
      "\u001b[0;31m---------------------------------------------------------------------------\u001b[0m",
      "\u001b[0;31mNameError\u001b[0m                                 Traceback (most recent call last)",
      "Cell \u001b[0;32mIn[6], line 32\u001b[0m\n\u001b[1;32m     30\u001b[0m epsilon_values \u001b[38;5;241m=\u001b[39m [\u001b[38;5;241m0.001\u001b[39m, \u001b[38;5;241m0.01\u001b[39m, \u001b[38;5;241m0.1\u001b[39m, \u001b[38;5;241m0.5\u001b[39m, \u001b[38;5;241m1\u001b[39m, \u001b[38;5;241m10\u001b[39m]\n\u001b[1;32m     31\u001b[0m \u001b[38;5;28;01mfor\u001b[39;00m epsilon \u001b[38;5;129;01min\u001b[39;00m epsilon_values:\n\u001b[0;32m---> 32\u001b[0m     result_laplace \u001b[38;5;241m=\u001b[39m mean_abscence_lap(epsilon, df)\n\u001b[1;32m     33\u001b[0m     result_gaussian \u001b[38;5;241m=\u001b[39m mean_abscence_gaussian(epsilon, df)\n\u001b[1;32m     34\u001b[0m     results_laplace\u001b[38;5;241m.\u001b[39mappend(result_laplace)\n",
      "\u001b[0;31mNameError\u001b[0m: name 'df' is not defined"
     ]
    }
   ],
   "source": [
    "# Function to calculate mean_abscence_lap for a given epsilon\n",
    "def mean_abscence_lap(epsilon, math):\n",
    "    b_lower = 0\n",
    "    b_upper = upper(b_lower, epsilon / 3)  # finds upper clipping param\n",
    "\n",
    "    noisy_sum = laplace_mech(df.clip(lower=b_lower, upper=b_upper).sum(), np.abs(b_upper - b_lower), epsilon / 3)\n",
    "    noisy_count = laplace_mech(len(df), 1, epsilon / 3)\n",
    "\n",
    "    return noisy_sum / noisy_count\n",
    "\n",
    "# Function to calculate mean_abscence_gaussian for a given epsilon\n",
    "def mean_abscence_gaussian(epsilon, math):\n",
    "    b_lower = 0\n",
    "    b_upper = upper(b_lower, epsilon / 3)  # finds upper clipping param\n",
    "\n",
    "    noisy_sum = gaussian_mech(df.clip(lower=b_lower, upper=b_upper).sum(), np.abs(b_upper - b_lower), epsilon / 3, 0.0001)\n",
    "    noisy_count = gaussian_mech(len(df), 1, epsilon / 3, 0.0001)\n",
    "\n",
    "    return noisy_sum / noisy_count\n",
    "\n",
    "# Create a list to store Laplace results\n",
    "results_laplace = []\n",
    "\n",
    "# Create a list to store Gaussian results\n",
    "results_gaussian = []\n",
    "\n",
    "# Define your DataFrame 'df' here\n",
    "\n",
    "# Iterate over epsilon values and store Laplace and Gaussian results\n",
    "epsilon_values = [0.001, 0.01, 0.1, 0.5, 1, 10]\n",
    "for epsilon in epsilon_values:\n",
    "    result_laplace = mean_abscence_lap(epsilon, math)\n",
    "    result_gaussian = mean_abscence_gaussian(epsilon, math)\n",
    "    results_laplace.append(result_laplace)\n",
    "    results_gaussian.append(result_gaussian)\n",
    "    print(f\"epsilon: {epsilon}, mean abscence lap: {result_laplace}, mean abscence gaussian: {result_gaussian}\")\n",
    "\n",
    "# CDF function\n",
    "def cdf(data):\n",
    "    n = len(data)\n",
    "    x = np.sort(data)\n",
    "    y = np.arange(1, n + 1) / n\n",
    "    return x, y\n",
    "\n",
    "# Plot the CDF for Laplace results\n",
    "for i, result_laplace in enumerate(results_laplace):\n",
    "    x, y = cdf(result_laplace)\n",
    "    plt.plot(x, y, label=f'Laplace, Epsilon = {epsilon_values[i]}', linestyle='--')\n",
    "\n",
    "# Plot the CDF for Gaussian results\n",
    "for i, result_gaussian in enumerate(results_gaussian):\n",
    "    x, y = cdf(result_gaussian)\n",
    "    plt.plot(x, y, label=f'Gaussian, Epsilon = {epsilon_values[i]}')\n",
    "\n",
    "plt.xlabel('Mean Absence')\n",
    "plt.ylabel('Cumulative Probability')\n",
    "plt.title('Comparison of Laplace and Gaussian Mechanisms')\n",
    "plt.legend()\n",
    "plt.show()"
   ]
  },
  {
   "cell_type": "code",
   "execution_count": 6,
   "id": "7732f846",
   "metadata": {},
   "outputs": [
    {
     "name": "stdout",
     "output_type": "stream",
     "text": [
      "above_15 #1: 114.99887956057044\n",
      "above_15 #2: 111.90112217102819\n",
      "above_15 #3: 30.240166167322588\n"
     ]
    }
   ],
   "source": [
    "# not here!\n",
    "# preserves epsilon-differential privacy\n",
    "def above_threshold(query_results, T, epsilon):\n",
    "    T_hat = T + np.random.laplace(loc=0, scale = 2/epsilon)\n",
    "    \n",
    "    for idx, q in enumerate(query_results):\n",
    "        nu_i = np.random.laplace(loc=0, scale = 4/epsilon)\n",
    "        if q + nu_i >= T_hat:\n",
    "            return idx\n",
    "    return None\n",
    "def above_15(query_results, epsilon):\n",
    "    ### BEGIN SOLUTION\n",
    "    T = 15\n",
    "    idx = above_threshold(query_results, T, epsilon/2)\n",
    "    val = laplace_mech(query_results[idx], 1, epsilon/2)\n",
    "    return val\n",
    "    ### END SOLUTION\n",
    "\n",
    "queries = math['absences'].value_counts()\n",
    "print(f\"above_15 #1: {above_15(queries, 100)}\")\n",
    "print(f\"above_15 #2: {above_15(queries, 1)}\")\n",
    "print(f\"above_15 #3: {above_15(queries, .01)}\")"
   ]
  },
  {
   "cell_type": "code",
   "execution_count": 12,
   "id": "6637c6ee",
   "metadata": {},
   "outputs": [
    {
     "ename": "NameError",
     "evalue": "name 'bounded_all_above_15' is not defined",
     "output_type": "error",
     "traceback": [
      "\u001b[1;31m---------------------------------------------------------------------------\u001b[0m",
      "\u001b[1;31mNameError\u001b[0m                                 Traceback (most recent call last)",
      "Cell \u001b[1;32mIn[12], line 20\u001b[0m\n\u001b[0;32m     17\u001b[0m     \u001b[38;5;66;03m### END SOLUTION\u001b[39;00m\n\u001b[0;32m     19\u001b[0m queries \u001b[38;5;241m=\u001b[39m \u001b[38;5;28mlist\u001b[39m(math[\u001b[38;5;124m'\u001b[39m\u001b[38;5;124mabsences\u001b[39m\u001b[38;5;124m'\u001b[39m]\u001b[38;5;241m.\u001b[39mvalue_counts())\n\u001b[1;32m---> 20\u001b[0m \u001b[38;5;28mprint\u001b[39m(\u001b[38;5;124mf\u001b[39m\u001b[38;5;124m\"\u001b[39m\u001b[38;5;124mbounded_all_above_10000 #1: \u001b[39m\u001b[38;5;132;01m{\u001b[39;00mbounded_all_above_15(queries,\u001b[38;5;250m \u001b[39m\u001b[38;5;241m3\u001b[39m,\u001b[38;5;250m \u001b[39m\u001b[38;5;241m100\u001b[39m)\u001b[38;5;132;01m}\u001b[39;00m\u001b[38;5;124m\"\u001b[39m)\n\u001b[0;32m     21\u001b[0m \u001b[38;5;28mprint\u001b[39m(\u001b[38;5;124mf\u001b[39m\u001b[38;5;124m\"\u001b[39m\u001b[38;5;124mbounded_all_above_10000 #2: \u001b[39m\u001b[38;5;132;01m{\u001b[39;00mbounded_all_above_15(queries,\u001b[38;5;250m \u001b[39m\u001b[38;5;241m3\u001b[39m,\u001b[38;5;250m \u001b[39m\u001b[38;5;241m1\u001b[39m)\u001b[38;5;132;01m}\u001b[39;00m\u001b[38;5;124m\"\u001b[39m)\n\u001b[0;32m     22\u001b[0m \u001b[38;5;28mprint\u001b[39m(\u001b[38;5;124mf\u001b[39m\u001b[38;5;124m\"\u001b[39m\u001b[38;5;124mbounded_all_above_10000 #3: \u001b[39m\u001b[38;5;132;01m{\u001b[39;00mbounded_all_above_10000(queries,\u001b[38;5;250m \u001b[39m\u001b[38;5;241m3\u001b[39m,\u001b[38;5;250m \u001b[39m\u001b[38;5;241m.01\u001b[39m)\u001b[38;5;132;01m}\u001b[39;00m\u001b[38;5;124m\"\u001b[39m)\n",
      "\u001b[1;31mNameError\u001b[0m: name 'bounded_all_above_15' is not defined"
     ]
    }
   ],
   "source": [
    "def bounded_all_above_10000(query_results, c, epsilon):\n",
    "    ### BEGIN SOLUTION\n",
    "    answers = []\n",
    "    pos = 0\n",
    "    T = 15\n",
    "    epsilon_i = epsilon / (c*2)\n",
    "    \n",
    "    while len(answers) < c:\n",
    "        answer_idx = above_threshold(query_results[pos:], T, epsilon_i)\n",
    "        if answer_idx == None:\n",
    "            break\n",
    "        pos = pos + answer_idx\n",
    "        answers.append(laplace_mech(query_results[pos], 1, epsilon_i))\n",
    "        pos = pos + 1\n",
    "        \n",
    "    return answers\n",
    "    ### END SOLUTION\n",
    "\n",
    "queries = list(math['absences'].value_counts())\n",
    "print(f\"bounded_all_above_10000 #1: {bounded_all_above_15(queries, 3, 100)}\")\n",
    "print(f\"bounded_all_above_10000 #2: {bounded_all_above_15(queries, 3, 1)}\")\n",
    "print(f\"bounded_all_above_10000 #3: {bounded_all_above_10000(queries, 3, .01)}\")"
   ]
  },
  {
   "cell_type": "code",
   "execution_count": null,
   "id": "6a317577",
   "metadata": {},
   "outputs": [],
   "source": []
  }
 ],
 "metadata": {
  "kernelspec": {
   "display_name": "Python 3 (ipykernel)",
   "language": "python",
   "name": "python3"
  },
  "language_info": {
   "codemirror_mode": {
    "name": "ipython",
    "version": 3
   },
   "file_extension": ".py",
   "mimetype": "text/x-python",
   "name": "python",
   "nbconvert_exporter": "python",
   "pygments_lexer": "ipython3",
   "version": "3.11.5"
  }
 },
 "nbformat": 4,
 "nbformat_minor": 5
}
